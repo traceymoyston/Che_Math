{
 "cells": [
  {
   "cell_type": "markdown",
   "id": "78d343fd",
   "metadata": {},
   "source": [
    "# Problem 1: Null distributions of a one-sample vs two sample t\n",
    "\n",
    "We've spent a lot of time discussing the \"null distribution\".\n",
    "- The null hypothesis for a 1 sample t test is that the mean of the normal population our data comes from is equal to our hypothesized mean, $\\mu$. Therefore, the null distribution is the distribution of t values we expect to observe if we randomly sample from a normal population that has a mean equal to our hypothesized mean, $\\mu$.\n",
    "- The null hypothesis for a 2 sample t test can be more nuanced, depending on the assumptions we make about each samples standard deviations. Here, we will consider the independent, equal sample size, equal variance two-sample t test.\n",
    "\n",
    "## Confirm we can calculate t correctly\n",
    "\n",
    "Let's start by firsting making sure we can calculate t correctly. For this problem, let's use the heights of players (in centimeters) randomly selected from the LA Lakers and Boston Celtics rosters:\n",
    "\n",
    "Lakers = [200, 210, 220,225,215];\n",
    "\n",
    "Heat = [190, 220, 193, 200, 190];\n",
    "\n",
    "In the space below, calculate the 1 sample t value for the Lakers, assuming their average height is 195 cm, and the two-sample t value for this data. Confirm your answers using ttest_1samp and ttest_ind. Be sure to **note** the technicality discussion on the last slide of Lecture 11."
   ]
  },
  {
   "cell_type": "code",
   "execution_count": 1,
   "id": "7f0a9852",
   "metadata": {},
   "outputs": [
    {
     "name": "stdout",
     "output_type": "stream",
     "text": [
      "The calculated one sample t value is 4.417410272265133\n",
      "T value from stats packages Ttest_1sampResult(statistic=4.4174102722651325, pvalue=0.011534048799787354)\n",
      "The calculated two sample t value is 2.167939197635687\n",
      "Two sample t value from stats package Ttest_indResult(statistic=2.167939197635687, pvalue=0.06201738353641719)\n"
     ]
    }
   ],
   "source": [
    "#conducting t tests on groups of data - one sample, two sample \n",
    "\n",
    "#importing the necessary packages for the code \n",
    "import numpy as np\n",
    "from scipy import stats \n",
    "\n",
    "#height data for the two groups of players \n",
    "lakers = [200, 210, 220,225,215];\n",
    "heat = [190, 220, 193, 200, 190];\n",
    "mu=195;\n",
    "\n",
    "tval= ((np.mean(lakers)-mu)/np.std(lakers,ddof=1))*np.sqrt(len(lakers)); #calculating the one sample t statistic \n",
    "#for the lakers heights with the given population mean. \n",
    "print(\"The calculated one sample t value is\",tval)\n",
    "print(\"T value from stats packages\", stats.ttest_1samp(lakers,mu))\n",
    "\n",
    "\n",
    "#two sample ttest assuming equal variance, independent populations. two-tailed  \n",
    "n1=len(lakers); #number of samples \n",
    "n2=len(heat);\n",
    "\n",
    "std1=np.std(lakers,ddof=1); #standard deviation for both groups of samples \n",
    "std2=np.std(heat,ddof=1);\n",
    "sp=np.sqrt(((n1-1)*std1**2+(n2-1)*std2**2)/(n1+n2-2)); #calculating the pooled standard deviation  \n",
    "\n",
    "tval_2sample=((np.mean(lakers)-np.mean(heat))/(sp*np.sqrt((1/n1)+(1/n2)))); #calculating the two sample t statistic \n",
    "print(\"The calculated two sample t value is\",tval_2sample)\n",
    "\n",
    "print(\"Two sample t value from stats package\",stats.ttest_ind(lakers,heat)) "
   ]
  },
  {
   "cell_type": "markdown",
   "id": "a2a25437",
   "metadata": {},
   "source": [
    "## Compare t distributions for 1 and 2 sample tests\n",
    "\n",
    "- In the space below, write the code necessary to create null distributions for single and two-sample t tests when:\n",
    "    - For the single sample t test, you are collecting 9 samples\n",
    "    - For the two sample t test, you are collected 5 samples for each group.\n",
    "- Produce density plots to compare the two distributions.\n",
    "    - Be sure to select enough samples and to adjust bins sizes as needed so that the density plots are clear and stable (meaning each time you run it, you basically get the same answer).\n",
    "    - Can use density feature of plt.hist or Seaborn's  sns function.\n",
    "    - On the figure, clearly indicate the degrees of freedom for the specific t test\n",
    "    - Unclear figures will not receive credit.\n"
   ]
  },
  {
   "cell_type": "code",
   "execution_count": 2,
   "id": "600a5a3d",
   "metadata": {},
   "outputs": [
    {
     "data": {
      "text/plain": [
       "Text(0.5, 1.0, 'T Distribution for one sample(dof=4) and two sample(dof=8). Mu=195')"
      ]
     },
     "execution_count": 2,
     "metadata": {},
     "output_type": "execute_result"
    },
    {
     "data": {
      "image/png": "[encoded data removed]",
      "text/plain": [
       "<Figure size 432x288 with 1 Axes>"
      ]
     },
     "metadata": {
      "needs_background": "light"
     },
     "output_type": "display_data"
    }
   ],
   "source": [
    "\n",
    "import matplotlib.pyplot as plt\n",
    "\n",
    "histdata=[]; # initiating an empty vector to add the t values from the following loop into \n",
    "mu2=195; #population mean \n",
    "sigma2=np.std(lakers); #assumed standard deviation of the pop.\n",
    "\n",
    "\n",
    "for i in range(0,1000): #for loop iterates over range 0-999 for (1000 times) \n",
    "    randvals=np.random.normal(mu2,sigma2,9); #samples 9 values from a normal distribution with the given mean and \n",
    "    #standard deviation \n",
    "    \n",
    "    #calculates the mean, standard deviation and t value for the sampled group and adds it to the list outside of the \n",
    "    #loop \n",
    "    avg=np.mean(randvals);\n",
    "    stdev=np.std(randvals,ddof=1);\n",
    "    t=((avg-mu2)/stdev)*np.sqrt(9);\n",
    "    histdata.append(t);\n",
    "\n",
    "#plots the histogram of the one sample t values and the density plot for n=9   \n",
    "x,bins,patches=plt.hist(histdata,bins=100,density=True);\n",
    "plt.plot(bins,stats.norm.pdf(bins))\n",
    "\n",
    "\n",
    "\n",
    "#two sample t distribution assuming the populations are independent with equal means and variance where n=5 \n",
    "histdata2=[];\n",
    "\n",
    "for i in range(0,1000):\n",
    "    randvals2=np.random.normal(mu2,sigma2,5); #takes 5 samples from two normal distributions \n",
    "    randvals3=np.random.normal(mu2,sigma2,5);\n",
    "    \n",
    "    #finds the pooled standard deviation and the 2 sample t value for the two groups of samples \n",
    "    sp=np.sqrt(((5-1)*np.std(randvals2,ddof=1)**2+(5-1)*np.std(randvals3,ddof=1)**2)/(len(randvals2)+len(randvals3)-\n",
    "                                                                                      2));\n",
    "    t2=((np.mean(randvals2)-np.mean(randvals3))/(sp*np.sqrt((1/len(randvals2))+(1/len(randvals3)))));\n",
    "    histdata2.append(t2)\n",
    "\n",
    "#plots the histogram of the two sample t values and the density plot for n=5 \n",
    "x2,bins2,patches2=plt.hist(histdata2,bins=100,density=True);\n",
    "plt.plot(bins2,stats.norm.pdf(bins2))\n",
    "\n",
    "#adds labels to the plots\n",
    "plt.legend([\"one sample dens\",\"two sample dens\",\"one sample\",\"two sample\"])\n",
    "plt.xlabel('t')\n",
    "plt.ylabel('Probability Density')\n",
    "dof1=len(lakers)-1\n",
    "dof2=len(lakers)+len(heat)-2\n",
    "plt.title('T Distribution for one sample(dof='+str(dof1)+') and two sample(dof='+str(dof2)+'). Mu=195')"
   ]
  },
  {
   "cell_type": "markdown",
   "id": "9551881e",
   "metadata": {},
   "source": [
    "Based on your figure(s) above, how do the two distributions compare? From the plots above, it appears that the distributions are roughly the same despite the different calculations of t and sample numbers."
   ]
  },
  {
   "cell_type": "markdown",
   "id": "22bd83ed",
   "metadata": {},
   "source": [
    "## Compute p value for two-sample t test\n",
    "- Using your null t distribution for your two sample t test, what is the likelihood that the heights of the Lakers and Heat come from populations with the same means?\n",
    "- Check your answer using ttest_ind"
   ]
  },
  {
   "cell_type": "code",
   "execution_count": 3,
   "id": "f59d1e0d",
   "metadata": {},
   "outputs": [
    {
     "name": "stdout",
     "output_type": "stream",
     "text": [
      "The likelihood that the heights are from populations with the same mean is 0.07\n",
      "P value from the stats package 0.06201738353641719\n"
     ]
    }
   ],
   "source": [
    "#a two sided t test is necessary to determine if the means are equal or not. \n",
    "p=(sum(histdata2>=tval_2sample )/1000)*2 #to account for the negative t value - multiply the p value by 2 \n",
    "print(\"The likelihood that the heights are from populations with the same mean is\",p)\n",
    "print(\"P value from the stats package\",stats.ttest_ind(lakers,heat)[1])"
   ]
  },
  {
   "cell_type": "markdown",
   "id": "1bb9c720",
   "metadata": {},
   "source": [
    "# Problem 2 Changing our data's distributions\n",
    "\n",
    "As we've seen, we typically must assume that our data comes from a normal distribution. Let's use our brute force approach to determine how changing that assumption impacts our null t distributions.\n",
    "\n",
    "- Below, create the null t distributions for a single-sample t test for n = 3, 8 and 30 when sampling from a normal distribution and a uniform distribution. \n",
    "- For each case, plot the density plots such that you can compare the distributions that result from sampling the normally and uniformally distributed data.\n",
    "- Clearly label all figures."
   ]
  },
  {
   "cell_type": "code",
   "execution_count": 7,
   "id": "76473f53",
   "metadata": {},
   "outputs": [
    {
     "data": {
      "text/plain": [
       "Text(0.5, 1.0, '  n=30')"
      ]
     },
     "execution_count": 7,
     "metadata": {},
     "output_type": "execute_result"
    },
    {
     "data": {
      "image/png": "[encoded data removed]",
      "text/plain": [
       "<Figure size 432x288 with 3 Axes>"
      ]
     },
     "metadata": {
      "needs_background": "light"
     },
     "output_type": "display_data"
    }
   ],
   "source": [
    "\n",
    "#taking samples from a normal and uniform distribution and plotting the t distribution \n",
    "mu3=50; #mean and standard deviation of the normal distribution\n",
    "sigma3=2;\n",
    "\n",
    "samplenum=[3,8,30]; #list with the number of samples for each sampling attempt \n",
    "\n",
    "#empty lists to add the t values into for each group of samples \n",
    "vals3=[];\n",
    "vals8=[];\n",
    "vals30=[];\n",
    "univals3=[];\n",
    "univals8=[];\n",
    "univals30=[];\n",
    "\n",
    "for i in range(0,1000):\n",
    "    \n",
    "    for i in range(0,len(samplenum)): #for each sample number the normal and uniform distributions are sampled \n",
    "        #and the t values are calculated \n",
    "        vals=np.random.normal(mu3,sigma3,samplenum[i]) #taking the specified amount of samples from the normal dist.\n",
    "        univals=np.random.uniform(0,100,samplenum[i]) #from the uniform distribution with limit 2*mu\n",
    "        avg=np.mean(vals)\n",
    "        stdev=np.std(vals,ddof=1)\n",
    "        t=((avg-mu3)/stdev)*np.sqrt(samplenum[i])\n",
    "        \n",
    "        uniavg=np.mean(univals)\n",
    "        unistdev=np.std(univals,ddof=1)\n",
    "        uni_t=((uniavg-mu3)/unistdev)*np.sqrt(samplenum[i])\n",
    "        \n",
    "        if samplenum[i]==3: #for each sample number the t values are placed in their respective lists \n",
    "            vals3.append(t)\n",
    "            univals3.append(uni_t)\n",
    "        if samplenum[i]==8:\n",
    "            vals8.append(t)\n",
    "            univals8.append(uni_t)\n",
    "        if samplenum[i]==30:\n",
    "            vals30.append(t)\n",
    "            univals30.append(uni_t)\n",
    "        \n",
    "\n",
    "# plots grouped by their sample numbers \n",
    "plt.subplot(2,2,1)     \n",
    "nx,nbins,npatches=plt.hist(vals3,bins=100,density=True);\n",
    "ux,ubins,upatches=plt.hist(univals3,bins=100,density=True);\n",
    "plt.plot(nbins,stats.norm.pdf(nbins))\n",
    "plt.plot(ubins,stats.norm.pdf(ubins))\n",
    "\n",
    "\n",
    "plt.xlim([-20,20])\n",
    "plt.xticks(fontsize=7)\n",
    "plt.legend([\"normal\",\"uniform\"],fontsize=8)\n",
    "plt.xlabel('t')\n",
    "plt.ylabel('Probability Density')\n",
    "plt.title('n=3')\n",
    "\n",
    "plt.subplot(2,2,2) \n",
    "nx8,nbins8,npatches8=plt.hist(vals8,bins=50,density=True);\n",
    "ux8,ubins8,upatches8=plt.hist(univals8,bins=50,density=True);\n",
    "plt.plot(nbins8,stats.norm.pdf(nbins8))\n",
    "plt.plot(ubins8,stats.norm.pdf(ubins8))\n",
    "\n",
    "plt.legend([\"Normal\",\"Uniform\"],fontsize=8)\n",
    "plt.title('n=8')\n",
    "plt.xticks(fontsize=7)\n",
    "\n",
    "plt.subplot(2,1,2)\n",
    "nx30,nbins30,npatches30=plt.hist(vals30,bins=100,density=True);\n",
    "ux30,ubins30,upatches30=plt.hist(univals30,bins=100,density=True);\n",
    "plt.plot(nbins30,stats.norm.pdf(nbins30))\n",
    "plt.plot(ubins30,stats.norm.pdf(ubins30))\n",
    "plt.legend([\"Normal\",\"Uniform\"])\n",
    "plt.xlabel('t')\n",
    "plt.ylabel('Probability Density')\n",
    "plt.title('  n=30')\n",
    "\n",
    "\n",
    " "
   ]
  },
  {
   "cell_type": "markdown",
   "id": "d4910ca6",
   "metadata": {},
   "source": [
    "**Comment here** on how changing distributions from which our data is collected impacts the null t distribution."
   ]
  },
  {
   "cell_type": "markdown",
   "id": "94163016",
   "metadata": {},
   "source": [
    "From the density plots it appears that the distributions are quite similar where the increase in sample size appears \n",
    "to make the density plots more alike "
   ]
  },
  {
   "cell_type": "markdown",
   "id": "a8cf63c1",
   "metadata": {},
   "source": [
    "# Problem 3 U statistic (i.e. no distribution assumptions)\n",
    "\n",
    "One major concern is that we often know nothing about the data. We have no good reason to assume it is from a normal distribution. Instead, we have to use nonparametric statistical tools wherein we do not have to make any assumptions on whether our data comes from a specific population. One option is the U statistic from the Wilcoxon rank-sum test.\n",
    "\n",
    "The assumption here is that two independent samples were selected from populations having the same distribution, but we don't know what that distribution is.\n",
    "\n",
    "How to calculate U for small data sets (i.e. direct method)\n",
    "- U is the number of “wins” between two competing datasets\n",
    "- For each observation in one set, count the number of times this first value wins over any observations in the other set.\n",
    "- Count 0.5 for any ties\n",
    "- The sum of wins and ties is the U for that datasets\n",
    "- To keep our discussion simple, we will ignore the case of ties\n",
    "\n",
    "Here's a short example:\n",
    "- Jason and Mr. N are competing. Jason scores a 100, 55, and 50. Mr. N scores a 90, 80, 60.\n",
    "- Order the data by wins from highest to lowest and indicate who the score belongs to : J N N N J J\n",
    "- We can calculate the U for Jason (call it U1) by adding the number of wins for each J entry. Namely, the first J beats N 3 times while the second and third J have no wins. So we get U1 = 3 + 0 + 0.\n",
    "    - We can do the same calculation for Mr. N and get U2 = 2 + 2 + 2 = 6.\n",
    "- Now, all we need to interpret these numbers is our absolute favorite thing: **a null distribution!!**\n",
    "\n",
    "The null distribution for a U statistic is simply the score all of the **possible combinations of outcomes**. For example, if we only had two measurements for J and N, the possible combinations are:\n",
    "   - JJBB (U1 = 4)\n",
    "   - JBJB (U1 = 3)\n",
    "   - JBBJ (U1 = 2)\n",
    "   - BJBJ (U1 = 1)\n",
    "   - BBJJ (U1 = 0)\n",
    "   - BJJB (U1 = 2)\n",
    "\n",
    "A histogram of the U1's above would be our null distribution. \n",
    "\n",
    "In the space below, wrote the code to construct the null distribution of U1 for when 5 samples are collected for each group. Hint: look for packages that can identify all combinations of two vectors...\n"
   ]
  },
  {
   "cell_type": "code",
   "execution_count": 5,
   "id": "f61ab13d",
   "metadata": {},
   "outputs": [
    {
     "data": {
      "text/plain": [
       "Text(0.5, 1.0, 'Null distribution of U1 for a sample of 5 per group ')"
      ]
     },
     "execution_count": 5,
     "metadata": {},
     "output_type": "execute_result"
    },
    {
     "data": {
      "image/png": "[encoded data removed]",
      "text/plain": [
       "<Figure size 432x288 with 1 Axes>"
      ]
     },
     "metadata": {
      "needs_background": "light"
     },
     "output_type": "display_data"
    }
   ],
   "source": [
    "#finding the null distribution of U1 when there are 5 samples collected per group.\n",
    "\n",
    "#imports the necessary packages \n",
    "import itertools \n",
    "\n",
    "\n",
    "r=5; #number of samples in each group\n",
    "x=[i for i in itertools.product([\"J\",\"B\"],repeat=(r*2))]; # for the two groups J and B, finds all possible combinations\n",
    "#allowing for repeats for a length of 10 \n",
    "#print(x)\n",
    "\n",
    "x2=[''.join(x[i]) for i in range(0,len(x))]; #joins the letter combinations to form a string of each combination\n",
    "# print (x2)\n",
    "\n",
    "#it returns combinations where the number of letter repeats is greater than 5 but for this there can only be 5 repeats\n",
    "#per combination so this returns a list of the combinations that only have 5 repeats of each letter \n",
    "y3=[x2[i] for i in range(0,len(x2)) if x2[i].count('J')==r and x2[i].count('B')==r ]; \n",
    "\n",
    "allcounts=[]; #initializes empty vector to add in the number of wins for each combination \n",
    "\n",
    "for i in range(0,len(y3)): #for loop iterates over the list of combinations     \n",
    "    counts=[abs(x-len(y3[i])) for x in range(0,len(y3[i])) if y3[i][x]=='J']; #for each combination if the letter is a J\n",
    "    #it returns the absolute value of the index - the length of the combination to return the rank of the J\n",
    "    allcounts.append((sum(counts)-((r)*((r)+1))/2)); #finds the u value for each combination\n",
    "    #using R1(sum of ranks) - n(n+1)/2 and adds it to a list \n",
    "    \n",
    "\n",
    "plt.hist(allcounts,bins=26); #plots the u values \n",
    "\n",
    "#adds labels to the plots\n",
    "\n",
    "plt.xlabel('U1')\n",
    "plt.ylabel('Frequency')\n",
    "plt.title('Null distribution of U1 for a sample of 5 per group ')\n",
    "            "
   ]
  },
  {
   "cell_type": "markdown",
   "id": "38135eb7",
   "metadata": {},
   "source": [
    "You collect two samples:\n",
    "\n",
    "a = (7,1,2,8,10)\n",
    "b = (4,5,6,9,11)\n",
    "\n",
    "Use your distribution to estimate the likelihood (two-sided p value) that a and b come from the same distributions.\n"
   ]
  },
  {
   "cell_type": "code",
   "execution_count": 6,
   "id": "e1ed52ae",
   "metadata": {},
   "outputs": [
    {
     "name": "stdout",
     "output_type": "stream",
     "text": [
      "U1 (a-b) is 10 and U2 is 15\n",
      "the likelihood of a and b being from the same distribution is 0.6904761904761905\n",
      "U and p values from the stats package. U1= 10.0 U2= 15.0 and p is 0.6904761904761905\n"
     ]
    }
   ],
   "source": [
    "#finding whether the following vectors come from the same distribution using the u statistic \n",
    "\n",
    "#vectors with the sample values \n",
    "a=[7,1,2,8,10];\n",
    "b=[4,5,6,9,11];\n",
    "\n",
    "u=[]; #initializing the empty list to place the wins inside \n",
    "\n",
    "for i in range(0,len(a)): #for loop iterating over the length of a \n",
    "    wins=[1 for x in range(0,len(b)) if a[i]>b[x]]; #loops over all elements of b if the element in a is greater than\n",
    "    #the element in b then a 1 is added to the list \n",
    "    u.append(sum(wins)); # adds the number of wins for each element in a to the list u \n",
    "\n",
    "u1=sum(u) #sums up the total number of wins for a over b to get u1 \n",
    "u2=(len(a)*len(b))-sum(u) #finds u2 using the formula u1+u2= n1*n2\n",
    "\n",
    "\n",
    "#for the two sided p value, finds all u values less than the smaller u value (of u1 and u2) and all u values greater\n",
    "#than the larger u value (of u1 and u2). Divided by the total number of U values in the distribution \n",
    "\n",
    "if u1<u2: \n",
    "    p=(len([x for x in allcounts if x<=u1])+len([x for x in allcounts if x>=u2]))/len(allcounts)\n",
    "else:\n",
    "    p=(len([x for x in allcounts if x>=u1])+len([x for x in allcounts if x<=u2]))/len(allcounts)\n",
    "\n",
    "print(\"U1 (a-b) is\",u1,'and U2 is',u2) \n",
    "print(\"the likelihood of a and b being from the same distribution is\",p)\n",
    "\n",
    "print(\"U and p values from the stats package. U1=\",stats.mannwhitneyu(a,b)[0],\"U2=\",stats.mannwhitneyu(b,a)[0],\"and p is\",stats.mannwhitneyu(b,a)[1])\n",
    "      "
   ]
  },
  {
   "cell_type": "code",
   "execution_count": null,
   "id": "9b68f364",
   "metadata": {},
   "outputs": [],
   "source": []
  }
 ],
 "metadata": {
  "kernelspec": {
   "display_name": "Python 3 (ipykernel)",
   "language": "python",
   "name": "python3"
  },
  "language_info": {
   "codemirror_mode": {
    "name": "ipython",
    "version": 3
   },
   "file_extension": ".py",
   "mimetype": "text/x-python",
   "name": "python",
   "nbconvert_exporter": "python",
   "pygments_lexer": "ipython3",
   "version": "3.9.12"
  }
 },
 "nbformat": 4,
 "nbformat_minor": 5
}
