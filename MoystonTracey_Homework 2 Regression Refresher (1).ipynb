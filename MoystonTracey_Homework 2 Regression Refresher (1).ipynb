{
 "cells": [
  {
   "cell_type": "markdown",
   "id": "6bfcf881",
   "metadata": {},
   "source": [
    "# Homework 2 Regression Refresher\n",
    "\n",
    "In class, we considered a very simply algorithm called gradient descent that we used to estimate the parameters of a simple linear model. But we left many considerations open. These include:\n",
    "- Normalization \n",
    "    - We saw that the SSE is a very big number in our example, leading us to choose awkwardly small learning rates. Normaling the error may help us use more reasonably sized learning rates.\n",
    "- When to stop\n",
    "    - We can tell the algorithm to stop after a set number of iterations or, something smarter, tell it to stop when it begins to take very small step sizes\n",
    "- Multiple solutions\n",
    "    - It should be obvious that gradient descent, as an algorithm, doesn't do much \"thinking\". \n",
    "    - If there are multiple solutions, it will only find one\n",
    "\n",
    "\n",
    "**Tracey Moyston**\n",
    "**I worked alone on this problem set**\n",
    "\n",
    "## Problem 1 - Use gradient descent to identify multiple minima\n",
    "\n",
    "Regression algorithms ultimately search for minima. This can be where an error function is minimized (as we saw in class) or when a polynomial equation is minimized. Using the code from our lecture, adapt the code in order to indentify the roots of the following equation: \n",
    "\n",
    "$x^3 - 6x^2 +11x = 6$\n",
    "  \n",
    "- Look at homework 1 for how to tackle this problem.\n",
    "- Since the polynomial will have more than 1 solution, be sure to consider multiple starting guesses. \n",
    "- Use the \"roots\" function from numpy to check your answer. Roots is especially designed for polynomials and should find all roots."
   ]
  },
  {
   "cell_type": "code",
   "execution_count": 136,
   "id": "0f9eed5d",
   "metadata": {},
   "outputs": [
    {
     "name": "stdout",
     "output_type": "stream",
     "text": [
      "Our best value for our slope (root) is  0.9950375007031517  with SSE 2.0298488749789048\n",
      "Our best value for our slope (root) is  1.9950000000010213  with SSE -0.9999250000000295\n",
      "Our best value for our slope (root) is  2.9949624992968484  with SSE 1.9698511250210942\n",
      "the actual roots of the polynomial are [3. 2. 1.]\n"
     ]
    }
   ],
   "source": [
    "#using the gradient descent algorithm developed from class to find the roots for a cubic polynomial \n",
    "\n",
    "import numpy as np #importing the necessary packages for the code\n",
    "import matplotlib.pyplot as plt \n",
    "\n",
    "\n",
    "#for the polynomial x^3-6x^2+11x=6 defining the function that accepts an input for x and evaluates the polynomial\n",
    "def roots(x): \n",
    "    y=x**3-6*x**2+11*x-6; # polynomial to be evaluated for guesses of x \n",
    "    err=y-0; #at the root y=0, this calculates the difference between the guess and y at the root \n",
    "    SSE=np.sum(err**2); #sum of the square of the error calculated above \n",
    "    return SSE; #function returns the sum of the squared error \n",
    "\n",
    "#function accepts guesses of x and finds the derivative (used as scaling factor in the gradient descent)\n",
    "def scale(x):\n",
    "    DERIVATIVE = (roots(x+0.01)-roots(x))/0.01; \n",
    "    return DERIVATIVE\n",
    "\n",
    "guesses=list(range(0,10,1)) #list of initial guesses from 1-9 wiht a step size of 1 \n",
    "newguess=[guesses[i] for i in range(0,len(guesses)) if abs(scale(guesses[i]))<0.1] #creates a list of the guesses \n",
    "#that have a derivative magnitude of less than zero. These will be the initial guesses for the gradient descent\n",
    "\n",
    "rate = 0.1; #set the rate of scaling for new x to 0.1\n",
    "\n",
    "for i in range(0,len(newguess)): #iterating over the list of new guesses \n",
    "    current_x=newguess[i] #sets the current x to the initial guess from the list\n",
    "    n=0;\n",
    "    while n<100: #loop runs while the iterator is less than 100 \n",
    "        new_x = current_x - rate *scale(current_x) ; #finds a new value of x with each loop \n",
    "        current_x=new_x;\n",
    "        n = n + 1;\n",
    "    print(\"Our best value for our slope (root) is \", new_x, \" with SSE\", derivative(new_x))\n",
    "\n",
    "\n",
    "print('the actual roots of the polynomial are',np.roots([1,-6,11,-6])) #finds the actual roots of the polynomial "
   ]
  },
  {
   "cell_type": "markdown",
   "id": "fa6339d8",
   "metadata": {},
   "source": [
    "## Problem 2 - Linear regression can be used to analyze \"groups\"\n",
    "\n",
    "In class, we used linear regression to fit a linear model to height and weight data. In this case, the measurements (x) and the outcomes (y) are continuous. Linear regression is also commonly used to analyze groups, wherein the measurements are not continous. For example, we may have measured the height of persons who did or did not eat asparagus when they were young. In this case, x is discrete - a collection of 1's and 0's. \n",
    "\n",
    "Let's use linear regression to analyze the miles per gallon achieved by select type of cars. Download the data from https://gist.github.com/noamross/e5d3e859aa0c794be10b. We want to determine if 8 cylinder vehicles get less gas mileage than 4 and 6 cylinder cars. Cyl = cylinders; MPG = miles per gallon on the table.\n",
    "\n",
    "### a) Write the code to determine the average MPG for 8 cylinder vehicles vs 4/6 cyl vehicle.\n",
    "Be sure the mean values are clearly identified or report them in a new markup cell below the code. Be sure that you are treating 4 and 6 cyl vehicles as one group."
   ]
  },
  {
   "cell_type": "code",
   "execution_count": 142,
   "id": "fe2006ba",
   "metadata": {},
   "outputs": [
    {
     "name": "stdout",
     "output_type": "stream",
     "text": [
      "mean mpg for 8 cyl is 15.1\n",
      "mean mpg for 6/4 cyl is 23.972222222222218\n"
     ]
    }
   ],
   "source": [
    "#finding whether 8 cylinder vehicles get less gas milage than 4 and 6 cylinders from data in a csv file\n",
    "\n",
    "import pandas as pd #imports the pandas package \n",
    "\n",
    "datafile=pd.read_csv('cars.csv') #reads into the csv file and saves the data in this notebook \n",
    "dat=datafile.iloc[:,1:3] #from the csv data, extracts the 'mpg' and 'cyl' columns and all their rows\n",
    "\n",
    "#defines empty lists to add data to \n",
    "eightcyl=[]; #for 8 cylinder mpg data \n",
    "six_fourcyl=[]; #for 6/4 cylinder mpg data \n",
    "\n",
    "for i in range(0,len(dat)): #iterates over the number of rows in the datafile \n",
    "    if dat.iloc[i,1]==8: #if the number in the cylinder column is 8 then the mpg is added to the list for 8 cylinder\n",
    "        eightcyl.append(dat.iloc[i,0])\n",
    "    if dat.iloc[i,1]==6 or dat.iloc[i,1]==4: #if the number in the cylinder column is 4 or 6 then the mpg is added to\n",
    "                                             #the list for 4/6 cylinders \n",
    "        six_fourcyl.append(dat.iloc[i,0])\n",
    "\n",
    "#finds the mean of the mpg values in each respective list \n",
    "print ('mean mpg for 8 cyl is',np.mean(eightcyl)) \n",
    "print ('mean mpg for 6/4 cyl is',np.mean(six_fourcyl))\n",
    "\n",
    "\n"
   ]
  },
  {
   "cell_type": "markdown",
   "id": "591707e8",
   "metadata": {},
   "source": [
    "The mean mpg for the 8 cylinder vehicles is 15.1 and for the 6/4 cylinder vehicles is 23.972"
   ]
  },
  {
   "cell_type": "markdown",
   "id": "dad8b85a",
   "metadata": {},
   "source": [
    "### b) Analyze using linear regression\n",
    "To analyze with linear regression, we have to create a linear model. Here, our y is the MPG. But x is not a continous variable - it's a group variable. \n",
    "\n",
    "- Let's create a \"Group\" column in our data, where a 1 indicates that a vehicle has a 8 cyl engine and a 0 to indicate a 4 or 6 cylinder vehicle. \n",
    "- Use the linear regression **mathematical code** (do not use packages; perform the matrix algrebra) from class to calculate the slope and intercept. Feel free to check your answer using on the packages demonstrated in class.\n",
    "- Report the slope and intercept in a text box below your code. \n",
    "- In the text box, also compare the calculated slope and intercept to the values of the means calculated above. Do you notice any obvious relationships?\n",
    "\n"
   ]
  },
  {
   "cell_type": "code",
   "execution_count": 141,
   "id": "1958d642",
   "metadata": {},
   "outputs": [
    {
     "name": "stdout",
     "output_type": "stream",
     "text": [
      "Our intercept is  23.97222222222222 and our slope is -8.872222222222222\n"
     ]
    },
    {
     "data": {
      "image/png": "[encoded data removed]",
      "text/plain": [
       "<Figure size 432x288 with 1 Axes>"
      ]
     },
     "metadata": {
      "needs_background": "light"
     },
     "output_type": "display_data"
    }
   ],
   "source": [
    "dat=pd.DataFrame(dat) #restructures the data as a dataframe to add in a new column \n",
    "newdata=[]; #creates an empty list to add in the data for the new column\n",
    "\n",
    "for i in range (0,len(dat)): #iterates over the number of rows of the datafiles \n",
    "    if dat.iloc[i,1]==8: #if the number in the cylinder column is 8 then the number 1 is added to the list defined above\n",
    "        newdata.append(1)\n",
    "    else: #if it is not 8 then the number 0 is added \n",
    "        newdata.append(0)\n",
    "dat[\"Group\"]=newdata #creates a new column 'Group' in the dataframe and adds the values from the list to it \n",
    "\n",
    "\n",
    "\n",
    "dat.plot(x='Group',y='mpg',kind='scatter') #plots the mpg for the two groups \n",
    "plt.title('Mpg for 8 cylinder (Group 1) and 4/6 cylinder (Group 0)')\n",
    "\n",
    "#sets up the matrix for calculating the slope and the intercept \n",
    "X = np.c_[np.ones(len(dat)),dat.iloc[:,2]] #the intercept column is 1s for the length of the datafile and the other \n",
    "#column represents the values for the groups \n",
    "\n",
    "from numpy.linalg import inv #package to manipulate the matrix \n",
    "tmp = inv(np.matmul(np.transpose(X),X)) #(X^T X)^-1\n",
    "\n",
    "INTERCEPT, SLOPE = tmp @ np.transpose(X) @ dat.iloc[:,0] #finds the intercept and the slope B=(X^T X)^-1 X^T y \n",
    "#where y is the mpg \n",
    "print(\"Our intercept is \",INTERCEPT, \"and our slope is\", SLOPE)\n",
    "\n"
   ]
  },
  {
   "cell_type": "markdown",
   "id": "d6fbe122",
   "metadata": {},
   "source": [
    "The slope is -8.8722 and the intercept was found to be 23.972. The slope appears to be the difference between the mean of the 6/4 cylinder group and the 8 cylinder group. The intercept also appears to be the same as the 6/4 cylinder group mean. From this information it may be suggested that the 8 group cylinder vehicles have less average gas mileage than 6 and 4 cylinder vehicles "
   ]
  },
  {
   "cell_type": "code",
   "execution_count": 14,
   "id": "b6ef37a1",
   "metadata": {},
   "outputs": [
    {
     "name": "stdout",
     "output_type": "stream",
     "text": [
      "                            OLS Regression Results                            \n",
      "==============================================================================\n",
      "Dep. Variable:                    mpg   R-squared:                       0.551\n",
      "Model:                            OLS   Adj. R-squared:                  0.536\n",
      "Method:                 Least Squares   F-statistic:                     36.74\n",
      "Date:                Mon, 12 Sep 2022   Prob (F-statistic):           1.17e-06\n",
      "Time:                        14:56:25   Log-Likelihood:                -89.584\n",
      "No. Observations:                  32   AIC:                             183.2\n",
      "Df Residuals:                      30   BIC:                             186.1\n",
      "Df Model:                           1                                         \n",
      "Covariance Type:            nonrobust                                         \n",
      "==============================================================================\n",
      "                 coef    std err          t      P>|t|      [0.025      0.975]\n",
      "------------------------------------------------------------------------------\n",
      "const         23.9722      0.968     24.761      0.000      21.995      25.949\n",
      "Group         -8.8722      1.464     -6.061      0.000     -11.862      -5.883\n",
      "==============================================================================\n",
      "Omnibus:                        3.039   Durbin-Watson:                   1.339\n",
      "Prob(Omnibus):                  0.219   Jarque-Bera (JB):                2.365\n",
      "Skew:                           0.665   Prob(JB):                        0.307\n",
      "Kurtosis:                       2.942   Cond. No.                         2.50\n",
      "==============================================================================\n",
      "\n",
      "Notes:\n",
      "[1] Standard Errors assume that the covariance matrix of the errors is correctly specified.\n"
     ]
    }
   ],
   "source": [
    "#double checking the answer using a package \n",
    "import statsmodels.api as sm\n",
    "model = sm.OLS(dat.iloc[:,0], sm.add_constant(dat.iloc[:,2])).fit()\n",
    " \n",
    "print(model.summary())"
   ]
  }
 ],
 "metadata": {
  "kernelspec": {
   "display_name": "Python 3 (ipykernel)",
   "language": "python",
   "name": "python3"
  },
  "language_info": {
   "codemirror_mode": {
    "name": "ipython",
    "version": 3
   },
   "file_extension": ".py",
   "mimetype": "text/x-python",
   "name": "python",
   "nbconvert_exporter": "python",
   "pygments_lexer": "ipython3",
   "version": "3.9.12"
  }
 },
 "nbformat": 4,
 "nbformat_minor": 5
}
