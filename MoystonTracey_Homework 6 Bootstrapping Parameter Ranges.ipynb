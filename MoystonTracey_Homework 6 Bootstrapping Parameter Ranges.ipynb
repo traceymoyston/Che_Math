{
 "cells": [
  {
   "cell_type": "markdown",
   "id": "1873ff44",
   "metadata": {
    "slideshow": {
     "slide_type": "subslide"
    }
   },
   "source": [
    "# Bootstrapping to estimate parameter ranges of nonlinear models\n",
    "\n",
    "When we first introduced ourselves to regression, we focused the regression algorithm’s ability to find the “truth”, i.e. how close to the true parameter values does the algorithm get.\n",
    "\n",
    "In statistics and boostrapping, the truth is (typically) unknown and there is noise associated with any given measurement. So our question becomes “how confident am I that the parameters of my model are not zero?” And as discussed in class, all kinds of challenges arise when using bootstrapping. Here, we'll try a simple example.\n",
    "\n",
    "Let's consider one of our equations for bacterial growth:\n",
    "\\begin{align}\n",
    "\\dot{y} = \\frac{y^3}{a+y^3}-by\n",
    "\\end{align}\n",
    "\n",
    "where y is the concentration of bacterium and a and b are parameters that help define the rate of bacterial growth and loss, respectively. \n",
    "\n",
    "You have been provided with data, called \"Homework11 Data.csv\". Use this data for the following excercises. In this file, you'll find the time points sampled and the concentration of bacterium (y) for 5 independent experiments. We will consider data to be independent across time and experiments.\n",
    "\n",
    "## Part 1: Plot data and perform initial fitting\n",
    "\n",
    "In the space below, load the data and write the code to fit the parameters of our model to the data using minimize or fsolve. You may want to revisit your previous homeworks. To make things a little easier, I'll give you the first guess for your parameter. Go with (a,b) = (0.3,0.8). After fitting:\n",
    "   - clearly indicate what were the parameter values and the value of the cost function you implemented.\n",
    "   - Plot on one plot the data and the fitted model's response"
   ]
  },
  {
   "cell_type": "code",
   "execution_count": null,
   "id": "a3ed747e",
   "metadata": {},
   "outputs": [],
   "source": [
    "#finding the parameters for the diff eq above \n",
    "\n",
    "#importing the required packages \n",
    "import pandas as pd \n",
    "from scipy.optimize import minimize \n",
    "from scipy.integrate import odeint\n",
    "import numpy as np\n",
    "import matplotlib.pyplot as plt\n",
    "\n",
    "bac_conc=pd.read_csv('Homework 6 Data.csv') #reading into and saving the data in the csv file \n",
    "\n",
    "def func(y,t,a,b): #defining the function for the diff eq where the output is the value of the function \n",
    "    fn=(y**3/(a+y**3))-(b*y);\n",
    "    return fn\n",
    "\n",
    "t_steps=bac_conc['Time'].to_numpy(); #time points from the experiments in an array \n",
    "ic=1; #initial condition set to 1 \n",
    "\n",
    "\n",
    "def RMSE(params): #defining the function for root mean square error \n",
    "    a,b= params; #unknown parameters assigned to their variables \n",
    "    odefunc=odeint(func,ic,t_steps,args=(a,b)); #solves the ode with the given initial condition and input a,b\n",
    "    err=bac_conc.iloc[0:,1:].to_numpy()-odefunc; #finds the difference between each time point and the calculated value\n",
    "#     print(err)\n",
    "    return np.sqrt(np.sum(err**2))\n",
    "\n",
    "# print(RMSE([0.3,0.8])) #testing function \n",
    "# sol = minimize(RMSE, x0=(0.3,  0.8)); #initial guess using minimize leading to final guess below\n",
    "\n",
    "\n",
    "sol = minimize(RMSE, x0=(-0.99012514,  0.08788018)); #final guess \n",
    "print(sol)\n",
    "print('cost function=',14.834490,'a=',-0.99012514,'b=',0.08788018)\n",
    "\n",
    "ode_func=odeint(func,ic,t_steps,args=(-0.99012514,  0.08788018)); #solve the diff eq with the chosen parameter values\n",
    "plt.scatter(bac_conc['Time'],bac_conc['Exp1'])\n",
    "plt.scatter(bac_conc['Time'],bac_conc['Exp2'])\n",
    "plt.scatter(bac_conc['Time'],bac_conc['Exp3'])\n",
    "plt.scatter(bac_conc['Time'],bac_conc['Exp4'])\n",
    "plt.scatter(bac_conc['Time'],bac_conc['Exp5'])\n",
    "plt.plot(t_steps,ode_func)\n",
    "\n",
    "#adds labels to the plot \n",
    "plt.legend([\"Exp1\",\"Exp2\",\"Exp3\",\"Exp4\",\"Exp5\",\"Fit\"])\n",
    "plt.xlabel('time')\n",
    "plt.ylabel('Bacteria Concentration ')\n",
    "plt.title('Bacteria concentration with time for 5 experiments')\n",
    "\n"
   ]
  },
  {
   "cell_type": "markdown",
   "id": "482027f3",
   "metadata": {},
   "source": [
    "## Part 2: Use sampling with replacement to create distributions of parameters that fit the data\n",
    "\n",
    "Our hypothesis is that both a and b are greater than 0. Use the bootstrap method to create distributions of estimates of our parameter values. We can do this by, **for each iteration:**\n",
    "   - Resample the data at each time point using sample with replacement (search online how to do).\n",
    "   - Use minimize to refit the model to the resampled data\n",
    "   - Save the fitted parameter estimates and the value of the cost function.\n",
    "   \n",
    "Do this for at least 200 iterations. HINT: this code may take a long time to run. It would be best to get the code working with only a few iterations. And once happy, then try 200. After completing, plot histograms of the fitted parameter values and cost function values. Figures must be clearly labeled and obvious to read. \n",
    "\n",
    "Based on these data, what is the p value for the null hypothesis that a and b are equal to zero? Calculate the one sided p value, based on the idea that we expect them to be greater than zero.\n",
    "   "
   ]
  },
  {
   "cell_type": "code",
   "execution_count": null,
   "id": "b7d9af61",
   "metadata": {},
   "outputs": [],
   "source": [
    "from sklearn.utils import resample #import the package to resample with replacement \n",
    "\n",
    "def RMSE2(params2):\n",
    "    a2,b2= params2;\n",
    "    odefunc2=odeint(func,ic,t_steps,args=(a2,b2));\n",
    "    err2=x-odefunc2;\n",
    "    return np.sqrt(np.sum(err2**2))\n",
    "\n",
    "a_sample=[]; #initializing empty vectors to place in the paramter values and the cost function \n",
    "b_sample=[];\n",
    "costfunc=[];\n",
    "\n",
    "for k in range(0,200): #looping through 200 times \n",
    "    x=resample(bac_conc.iloc[0:,1:].to_numpy()); #resampling with replacement for each experiment at each time point \n",
    "    sol2 = minimize(RMSE2, x0=(0.3,0.8)); #using the initial guess to then obtain parameter estimates \n",
    "    a=sol2.x[0]; # estimate for a \n",
    "    b=sol2.x[1]; #estimate for b \n",
    "    RMS=RMSE2([a,b]);\n",
    "    a_sample.append(a);\n",
    "    b_sample.append(b);\n",
    "    costfunc.append(RMS);\n",
    "\n",
    "plt.hist(a_sample,bins=50,density=True);\n",
    "plt.xlabel('a')\n",
    "plt.ylabel('Probability Density')\n",
    "plt.title('Distribution for parameter a')"
   ]
  },
  {
   "cell_type": "code",
   "execution_count": null,
   "id": "4e8b2969",
   "metadata": {},
   "outputs": [],
   "source": [
    "plt.hist(b_sample,bins=50,density=True);\n",
    "plt.xlabel('b')\n",
    "plt.ylabel('Probability Density')\n",
    "plt.title('Distribution for parameter b')"
   ]
  },
  {
   "cell_type": "code",
   "execution_count": null,
   "id": "41548b05",
   "metadata": {},
   "outputs": [],
   "source": [
    "plt.hist(costfunc,bins=50,density=True);\n",
    "plt.xlabel('RMSE')\n",
    "plt.ylabel('Probability Density')\n",
    "plt.title('Distribution for RMSE')\n",
    "\n",
    "p_a=len([x for x in a_sample if x>0])/200; #finding the number of times a >0 divided by the total samples \n",
    "p_b=len([x for x in b_sample if x>0])/200; # finding the number of times b >0 divided by the total samples \n",
    "p_ab1=len([x for x in a_sample if x==0])/200; \n",
    "p_ab2=len([x for x in b_sample if x==0])/200;\n",
    "\n",
    "print('p values for a and b greater than 0 are: ',p_a,',',p_b,'respectively','p value for a and b=0 is',p_ab1+p_ab2)"
   ]
  },
  {
   "cell_type": "markdown",
   "id": "99b4a942",
   "metadata": {},
   "source": [
    "## Part 3 Analyze fit results\n",
    "\n",
    "One a single figure, plot the model's response vs time for all 200 estimates of the parameter values. Are the fits reasonable? Should any of the fits be discounted? Why so? Does this change how you define your p values above? **Defend your answer here and include any plots as necessary:**\n",
    "\n"
   ]
  },
  {
   "cell_type": "code",
   "execution_count": null,
   "id": "f9a9b368",
   "metadata": {},
   "outputs": [],
   "source": [
    "for i in range(0, 200): #looping through the 200 parameter values to solve the diff eq at each and plot a new fit \n",
    "    ode_func2=odeint(func,ic,t_steps,args=(a_sample[i],  b_sample[i]));\n",
    "    plt.plot(t_steps,ode_func2,color=\"blue\")\n",
    "    \n",
    "plt.plot(t_steps, ode_func,color='red')\n",
    "plt.xlabel('time')\n",
    "plt.ylabel('Bacteria concentration')\n",
    "plt.title('Plots of fit for bacteria concentration with original fit in red')\n"
   ]
  },
  {
   "cell_type": "markdown",
   "id": "b5571451",
   "metadata": {},
   "source": [
    "Some of the fits are close to the one obtained in problem 1 while a few others are much further away from an appropriate fit, these could be discounted because they do not represent the original data and are either greater than or less than the average at each time point (from observation). "
   ]
  },
  {
   "cell_type": "markdown",
   "id": "2d186022",
   "metadata": {},
   "source": [
    "Data for the project: Looking at COVID county deaths with county age and educational attainment "
   ]
  },
  {
   "cell_type": "code",
   "execution_count": null,
   "id": "5e008d3a",
   "metadata": {},
   "outputs": [],
   "source": []
  }
 ],
 "metadata": {
  "kernelspec": {
   "display_name": "Python 3 (ipykernel)",
   "language": "python",
   "name": "python3"
  },
  "language_info": {
   "codemirror_mode": {
    "name": "ipython",
    "version": 3
   },
   "file_extension": ".py",
   "mimetype": "text/x-python",
   "name": "python",
   "nbconvert_exporter": "python",
   "pygments_lexer": "ipython3",
   "version": "3.9.12"
  }
 },
 "nbformat": 4,
 "nbformat_minor": 5
}
